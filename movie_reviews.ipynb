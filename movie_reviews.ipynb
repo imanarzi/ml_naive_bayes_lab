{
 "cells": [
  {
   "cell_type": "code",
   "execution_count": 1,
   "metadata": {},
   "outputs": [],
   "source": [
    "data_dir = \"../../ml_datasets/movies_reviews\""
   ]
  },
  {
   "cell_type": "code",
   "execution_count": 2,
   "metadata": {},
   "outputs": [],
   "source": [
    "import numpy as np\n",
    "import matplotlib.pyplot as plt"
   ]
  },
  {
   "cell_type": "code",
   "execution_count": 3,
   "metadata": {},
   "outputs": [
    {
     "name": "stdout",
     "output_type": "stream",
     "text": [
      "['.DS_Store', 'neg', 'new_reviews', 'pos']\n"
     ]
    }
   ],
   "source": [
    "import os\n",
    "cwd = os.getcwd()\n",
    "os.chdir(cwd)\n",
    "print(os.listdir(data_dir))"
   ]
  },
  {
   "cell_type": "markdown",
   "metadata": {},
   "source": [
    "The first step I'm doing is putting all the reviews into separate string arrays, one for the positive reviews folder and one for the negative reviews folder."
   ]
  },
  {
   "cell_type": "code",
   "execution_count": 4,
   "metadata": {},
   "outputs": [],
   "source": [
    "pos_reviews = []\n",
    "for filename in os.listdir(data_dir +\"/pos/\"):\n",
    "    with open(os.path.join(data_dir +\"/pos/\", filename), 'r') as file:\n",
    "        data = file.read().replace('\\n', '')\n",
    "        pos_reviews.append(data)\n",
    "\n",
    "neg_reviews = []\n",
    "for filename in os.listdir(data_dir +\"/neg/\"):\n",
    "    with open(os.path.join(data_dir +\"/neg/\", filename), 'r') as file:\n",
    "        data = file.read().replace('\\n', '')\n",
    "        neg_reviews.append(data)"
   ]
  },
  {
   "cell_type": "markdown",
   "metadata": {},
   "source": [
    "Here, I am placing exactly half of the positive and half of the negative reviews into a training set.  The rest are going into the test set."
   ]
  },
  {
   "cell_type": "code",
   "execution_count": 5,
   "metadata": {},
   "outputs": [],
   "source": [
    "X_train_reviews = pos_reviews[:500] + neg_reviews[:500]\n",
    "X_test_reviews = pos_reviews[500:] + neg_reviews[500:]"
   ]
  },
  {
   "cell_type": "markdown",
   "metadata": {},
   "source": [
    "In this step, I am applying transformations on the training set.  First, I am applying the count vectorizer, which counts the occurrences of each word.  Then, I pass this result into another transformer, Term-Frequency Inverse Document Frequency (TF-IDF), to give less weight to words such as \"the.\"   "
   ]
  },
  {
   "cell_type": "code",
   "execution_count": 6,
   "metadata": {},
   "outputs": [],
   "source": [
    "from sklearn.feature_extraction.text import CountVectorizer\n",
    "count_vect = CountVectorizer()\n",
    "X_train_tf = count_vect.fit_transform(X_train_reviews)\n",
    "\n",
    "from sklearn.feature_extraction.text import TfidfTransformer\n",
    "tfidf_transformer = TfidfTransformer()\n",
    "X_train_tfidf = tfidf_transformer.fit_transform(X_train_tf)"
   ]
  },
  {
   "cell_type": "code",
   "execution_count": 7,
   "metadata": {},
   "outputs": [
    {
     "data": {
      "text/plain": [
       "1000"
      ]
     },
     "execution_count": 7,
     "metadata": {},
     "output_type": "execute_result"
    }
   ],
   "source": [
    "Y_train = ['pos']*500 + ['neg']*500\n",
    "len(Y_train)"
   ]
  },
  {
   "cell_type": "markdown",
   "metadata": {},
   "source": [
    "In this cell, I am building the model.  I use Multinomial Naive Bayes since it works well for text classification, and the data is balanced (if it weren't I could use Complement Naive Bayes).  "
   ]
  },
  {
   "cell_type": "code",
   "execution_count": 8,
   "metadata": {},
   "outputs": [],
   "source": [
    "from sklearn.naive_bayes import MultinomialNB\n",
    "clf = MultinomialNB().fit(X_train_tfidf, Y_train)\n",
    "predicted = clf.predict(X_train_tfidf)"
   ]
  },
  {
   "cell_type": "code",
   "execution_count": 9,
   "metadata": {},
   "outputs": [
    {
     "name": "stdout",
     "output_type": "stream",
     "text": [
      "Accuracy 0.982\n"
     ]
    }
   ],
   "source": [
    "from sklearn.metrics import accuracy_score\n",
    "print(\"Accuracy\", accuracy_score(Y_train, predicted))"
   ]
  },
  {
   "cell_type": "markdown",
   "metadata": {},
   "source": [
    "Now, I am using the model on the test data, applying all the same transformations prior to prediction."
   ]
  },
  {
   "cell_type": "code",
   "execution_count": 10,
   "metadata": {},
   "outputs": [
    {
     "name": "stdout",
     "output_type": "stream",
     "text": [
      "Accuracy 0.819\n"
     ]
    }
   ],
   "source": [
    "X_test_tf = count_vect.transform(X_test_reviews)\n",
    "X_test_tfidf = tfidf_transformer.transform(X_test_tf)\n",
    "Y_test = ['pos']*500 + ['neg']*500\n",
    "predicted = clf.predict(X_test_tfidf)\n",
    "print(\"Accuracy\", accuracy_score(Y_test, predicted))"
   ]
  },
  {
   "cell_type": "markdown",
   "metadata": {},
   "source": [
    "I repeat the same procedures on some new data. I found reviews online for various movies, and I reported the actual numeric ratings in the last cell."
   ]
  },
  {
   "cell_type": "code",
   "execution_count": 11,
   "metadata": {},
   "outputs": [
    {
     "data": {
      "text/plain": [
       "5"
      ]
     },
     "execution_count": 11,
     "metadata": {},
     "output_type": "execute_result"
    }
   ],
   "source": [
    "new_reviews = []\n",
    "for filename in os.listdir(data_dir +\"/new_reviews/\"):\n",
    "    with open(os.path.join(data_dir +\"/new_reviews/\", filename), 'r') as file:\n",
    "        data = file.read().replace('\\n', '')\n",
    "        new_reviews.append(data)\n",
    "len(new_reviews)"
   ]
  },
  {
   "cell_type": "code",
   "execution_count": 12,
   "metadata": {},
   "outputs": [
    {
     "data": {
      "text/plain": [
       "array(['neg', 'pos', 'neg', 'pos', 'neg'], dtype='<U3')"
      ]
     },
     "execution_count": 12,
     "metadata": {},
     "output_type": "execute_result"
    }
   ],
   "source": [
    "X_new_tf = count_vect.transform(new_reviews)\n",
    "X_new_tfidf = tfidf_transformer.transform(X_new_tf)\n",
    "predicted = clf.predict(X_new_tfidf)\n",
    "predicted"
   ]
  },
  {
   "cell_type": "markdown",
   "metadata": {},
   "source": [
    "### Ratings for the new reviews:\n",
    "1. 1.5/4\n",
    "2. 8/10\n",
    "3. 2.5/5\n",
    "4. 5/5\n",
    "5. 2.5/4\n",
    "\n",
    "Based off these ratings, the classifer correctly predicted almost all except 5, which may be considered a positive review (if above half is considered positive)."
   ]
  },
  {
   "cell_type": "code",
   "execution_count": null,
   "metadata": {},
   "outputs": [],
   "source": []
  }
 ],
 "metadata": {
  "kernelspec": {
   "display_name": "Python 3",
   "language": "python",
   "name": "python3"
  },
  "language_info": {
   "codemirror_mode": {
    "name": "ipython",
    "version": 3
   },
   "file_extension": ".py",
   "mimetype": "text/x-python",
   "name": "python",
   "nbconvert_exporter": "python",
   "pygments_lexer": "ipython3",
   "version": "3.8.3"
  }
 },
 "nbformat": 4,
 "nbformat_minor": 4
}
